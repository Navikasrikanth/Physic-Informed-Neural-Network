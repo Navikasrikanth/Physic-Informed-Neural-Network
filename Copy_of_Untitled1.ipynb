{
  "nbformat": 4,
  "nbformat_minor": 0,
  "metadata": {
    "colab": {
      "provenance": [],
      "gpuType": "T4",
      "authorship_tag": "ABX9TyO/MelFuOrvCRYgeKhshIgA",
      "include_colab_link": true
    },
    "kernelspec": {
      "name": "python3",
      "display_name": "Python 3"
    },
    "language_info": {
      "name": "python"
    },
    "accelerator": "GPU"
  },
  "cells": [
    {
      "cell_type": "markdown",
      "metadata": {
        "id": "view-in-github",
        "colab_type": "text"
      },
      "source": [
        "<a href=\"https://colab.research.google.com/github/Navikasrikanth/Physic-Informed-Neural-Network/blob/main/Copy_of_Untitled1.ipynb\" target=\"_parent\"><img src=\"https://colab.research.google.com/assets/colab-badge.svg\" alt=\"Open In Colab\"/></a>"
      ]
    },
    {
      "cell_type": "markdown",
      "source": [
        "# Step 1: Define Poisson’s Equation and Boundary Conditions\n",
        "We are solving the **2D Poisson equation**:\n",
        "\n",
        "Δu(x, y) = f(x, y),   for (x, y) ∈ [0,1] × [0,1]\n",
        "\n",
        "Boundary conditions:\n",
        "u(x, y) = 0,   for (x, y) on the boundary (Dirichlet BC).\n",
        "\n",
        "Here, Δ is the Laplace operator.\n"
      ],
      "metadata": {
        "id": "wPgO3AIiPs79"
      }
    },
    {
      "cell_type": "code",
      "execution_count": null,
      "metadata": {
        "colab": {
          "base_uri": "https://localhost:8080/"
        },
        "id": "8m1ztK2lBfmZ",
        "outputId": "2e68329f-c339-4c24-a89b-2d2183079b04"
      },
      "outputs": [
        {
          "output_type": "stream",
          "name": "stdout",
          "text": [
            "Architecture: Fully-connected MLP (2 -> 50 -> 50 -> 1)\n",
            "Solution type: sin(pi*x)*sin(pi*y)\n",
            "Activation: Tanh\n",
            "Learning rate: 0.0005\n",
            "Noise level: 0.0\n",
            "Collocation points (interior): 20000\n",
            "Boundary points: 800\n",
            "Epochs (forward): 3000 Epochs (inverse): 5000\n",
            "Device: cuda\n"
          ]
        }
      ],
      "source": [
        "import torch\n",
        "import torch.nn as nn\n",
        "import torch.optim as optim\n",
        "import numpy as np\n",
        "import matplotlib.pyplot as plt\n",
        "torch.set_default_dtype(torch.float32)\n",
        "\n",
        "device = torch.device(\"cuda\" if torch.cuda.is_available() else \"cpu\")\n",
        "torch.manual_seed(42)\n",
        "np.random.seed(42)\n",
        "\n",
        "POLY_TYPE = \"sin(pi*x)*sin(pi*y)\"\n",
        "ACTIVATION = \"Tanh\"\n",
        "LEARNING_RATE = 5e-4\n",
        "NOISE_LEVEL = 0.0\n",
        "N_F = 20000\n",
        "N_B = 800\n",
        "EPOCHS_FORWARD = 3000\n",
        "EPOCHS_INVERSE = 5000\n",
        "PRINT_EVERY = 100\n",
        "\n",
        "print(\"Architecture: Fully-connected MLP (2 -> 50 -> 50 -> 1)\")\n",
        "print(\"Solution type:\", POLY_TYPE)\n",
        "print(\"Activation:\", ACTIVATION)\n",
        "print(\"Learning rate:\", LEARNING_RATE)\n",
        "print(\"Noise level:\", NOISE_LEVEL)\n",
        "print(\"Collocation points (interior):\", N_F)\n",
        "print(\"Boundary points:\", N_B)\n",
        "print(\"Epochs (forward):\", EPOCHS_FORWARD, \"Epochs (inverse):\", EPOCHS_INVERSE)\n",
        "print(\"Device:\", device)\n",
        "\n"
      ]
    },
    {
      "cell_type": "markdown",
      "source": [
        "###Generate Forward Problem Data\n",
        "\n",
        "In this step, we set up the data for the forward problem:\n",
        "\n",
        "- We define the exact solution `u(x, y)` as `A * sin(pi*x) * sin(pi*y)`.\n",
        "- The source function `f(x, y)` is defined as `-2 * pi^2 * A * sin(pi*x) * sin(pi*y)`.\n",
        "- The boundary function `g(x, y)` gives the values of `u` on the edges of the domain.\n",
        "\n",
        "Next, we generate:\n",
        "\n",
        "- **Interior collocation points** randomly inside the square domain.\n",
        "- **Boundary points** along the edges of the domain.\n",
        "- **Boundary values** using the boundary function.\n",
        "- Optionally, we can add noise to the boundary values.\n",
        "\n",
        "\n"
      ],
      "metadata": {
        "id": "CbdC9FovTNHJ"
      }
    },
    {
      "cell_type": "code",
      "source": [
        "A_true = 1.0\n",
        "\n",
        "def u_exact_func(x, y, A=A_true):\n",
        "  return A * torch.sin(np.pi * x) * torch.sin(np.pi * y)\n",
        "\n",
        "def f_forward_func(x, y, A=A_true):\n",
        "  return -2 * (np.pi**2) * A * torch.sin(np.pi * x) * torch.sin(np.pi * y)\n",
        "\n",
        "def g_boundary(x, y, A=A_true):\n",
        "  return u_exact_func(x, y, A=A)\n",
        "\n",
        "x_f = torch.rand(N_F, 1, device=device) #compute collocation points\n",
        "y_f = torch.rand(N_F, 1, device=device)\n",
        "\n",
        "n_edge = N_B // 4\n",
        "x_b = torch.cat([                #combine all boundary points\n",
        "torch.rand(n_edge,1),\n",
        "torch.zeros(n_edge,1),\n",
        "torch.ones(n_edge,1),\n",
        "torch.rand(n_edge,1)\n",
        "], dim=0).to(device)\n",
        "y_b = torch.cat([\n",
        "torch.zeros(n_edge,1),\n",
        "torch.rand(n_edge,1),\n",
        "torch.rand(n_edge,1),\n",
        "torch.ones(n_edge,1)\n",
        "], dim=0).to(device)\n",
        "\n",
        "u_b = g_boundary(x_b, y_b).to(device)        #store exact solution of boundary points to find boundary loss later\n",
        "if NOISE_LEVEL > 0:\n",
        "  u_b = u_b + NOISE_LEVEL * torch.randn_like(u_b)\n"
      ],
      "metadata": {
        "id": "5Mxvq-L8BrgW"
      },
      "execution_count": null,
      "outputs": []
    },
    {
      "cell_type": "markdown",
      "source": [
        "# Define Neural Network\n",
        "\n",
        "In this step, we define a simple fully connected neural network with:\n",
        "\n",
        "- Input: two values (x and y)\n",
        "- Two hidden layers with a specified number of neurons (default 50) and Tanh activation\n",
        "- Output: single value u(x, y)\n",
        "- Xavier initialization for all linear layer weights and zero initialization for biases\n",
        "\n",
        "\n",
        "## **Xavier (Glorot) Initialization**\n",
        "Xavier initialization (also called Glorot initialization) is a way to set the initial weights of a neural network so that signals flow properly through the layers at the start of training.\n",
        "\n",
        "\n",
        "When training neural networks, how we initialize weights matters.  \n",
        "- If weights are **too small** → activations and gradients vanish.  \n",
        "- If weights are **too large** → activations and gradients explode.  \n",
        "\n",
        "\n",
        "**Xavier initialization** (Glorot & Bengio, 2010) balances this by keeping the variance of activations roughly the same across all layers.\n"
      ],
      "metadata": {
        "id": "-gVwr-bRThRu"
      }
    },
    {
      "cell_type": "code",
      "source": [
        "class PINN(nn.Module):\n",
        "  def __init__(self, hidden_dim=100, activation=nn.Tanh):\n",
        "    super().__init__()\n",
        "    self.fc1 = nn.Linear(2, hidden_dim)\n",
        "    self.act1 = activation()\n",
        "    self.fc2 = nn.Linear(hidden_dim, hidden_dim)\n",
        "    self.act2 = activation()\n",
        "    self.fc3 = nn.Linear(hidden_dim, 1)\n",
        "    # Xavier init\n",
        "    nn.init.xavier_normal_(self.fc1.weight); nn.init.zeros_(self.fc1.bias)\n",
        "    nn.init.xavier_normal_(self.fc2.weight); nn.init.zeros_(self.fc2.bias)\n",
        "    nn.init.xavier_normal_(self.fc3.weight); nn.init.zeros_(self.fc3.bias)\n",
        "\n",
        "  def forward(self, x, y):             #moving forward by using activation function through each layer till output\n",
        "    inp = torch.cat([x, y], dim=1)\n",
        "    z = self.act1(self.fc1(inp))\n",
        "    z = self.act2(self.fc2(z))\n",
        "    out = self.fc3(z)\n",
        "    return out\n",
        "\n",
        "model = PINN(hidden_dim=100, activation=nn.Tanh).to(device)      #Instantiates the network with 100 neurons per\n",
        "                                                                 # hidden layer and Tanh activation and moves it to gpu\n",
        "print(model)"
      ],
      "metadata": {
        "colab": {
          "base_uri": "https://localhost:8080/"
        },
        "id": "LEsQq000DY50",
        "outputId": "2d894f61-763a-4f32-d219-0b259a995e58"
      },
      "execution_count": null,
      "outputs": [
        {
          "output_type": "stream",
          "name": "stdout",
          "text": [
            "PINN(\n",
            "  (fc1): Linear(in_features=2, out_features=100, bias=True)\n",
            "  (act1): Tanh()\n",
            "  (fc2): Linear(in_features=100, out_features=100, bias=True)\n",
            "  (act2): Tanh()\n",
            "  (fc3): Linear(in_features=100, out_features=1, bias=True)\n",
            ")\n"
          ]
        }
      ]
    },
    {
      "cell_type": "markdown",
      "source": [
        "# Define Loss Function\n",
        "\n",
        "In this step, we define how the model will be trained:\n",
        "\n",
        "- Compute the Laplacian (second derivatives) of the predicted u(x, y) using automatic differentiation.\n",
        "- Compute the PDE residual loss at interior collocation points.\n",
        "- Compute the boundary loss at boundary points.\n",
        "- Total loss = PDE residual loss + boundary loss\n",
        "- Return both the total loss and individual losses for monitoring.\n"
      ],
      "metadata": {
        "id": "I5N3bhtlTtR4"
      }
    },
    {
      "cell_type": "code",
      "source": [
        "mse_loss = nn.MSELoss()\n",
        "\n",
        "def laplacian_u(model, x, y):\n",
        "  x_req = x.clone().detach().requires_grad_(True)\n",
        "  y_req = y.clone().detach().requires_grad_(True)\n",
        "  u = model(x_req, y_req)\n",
        "  grad_u = torch.autograd.grad(u, [x_req, y_req], grad_outputs=torch.ones_like(u), create_graph=True)\n",
        "  u_x = grad_u[0]\n",
        "  u_y = grad_u[1]\n",
        "  u_xx = torch.autograd.grad(u_x, x_req, grad_outputs=torch.ones_like(u_x), create_graph=True)[0]\n",
        "  u_yy = torch.autograd.grad(u_y, y_req, grad_outputs=torch.ones_like(u_y), create_graph=True)[0]\n",
        "  return u_xx + u_yy\n",
        "\n",
        "def pinn_loss_forward(model, x_f, y_f, x_b, y_b, u_b):\n",
        "  f_pred = laplacian_u(model, x_f, y_f)\n",
        "  f_true = f_forward_func(x_f, y_f).to(device)\n",
        "  loss_f = mse_loss(f_pred, f_true)\n",
        "  u_b_pred = model(x_b, y_b)\n",
        "  loss_b = mse_loss(u_b_pred, u_b)\n",
        "  return loss_f + loss_b, loss_f.item(), loss_b.item()"
      ],
      "metadata": {
        "id": "Tpiz2E1VDyAS"
      },
      "execution_count": null,
      "outputs": []
    },
    {
      "cell_type": "markdown",
      "source": [
        "# Train the Forward PINN\n",
        "\n",
        "In this step, we train the neural network to solve the Poisson equation:\n",
        "\n",
        "- Use the Adam optimizer with a specified learning rate.\n",
        "- For each epoch:\n",
        "  - Compute the total loss using the `pinn_loss_forward` function.\n",
        "  - Perform backpropagation and update the model parameters.\n",
        "  - Periodically print the total loss, PDE residual loss, and boundary loss to monitor training progress.\n"
      ],
      "metadata": {
        "id": "u41S-QzUT0CF"
      }
    },
    {
      "cell_type": "code",
      "source": [
        "optimizer = optim.Adam(model.parameters(), lr=LEARNING_RATE)\n",
        "print(\"Starting forward training...\")\n",
        "for epoch in range(1, EPOCHS_FORWARD + 1):\n",
        "  model.train()\n",
        "  optimizer.zero_grad()\n",
        "  total_loss, loss_f_val, loss_b_val = pinn_loss_forward(model, x_f, y_f, x_b, y_b, u_b)\n",
        "  total_loss.backward()\n",
        "  optimizer.step()\n",
        "  if epoch % PRINT_EVERY == 0 or epoch == 1 or epoch == EPOCHS_FORWARD:\n",
        "    print(f\"[Forward] Epoch {epoch}/{EPOCHS_FORWARD}  Total Loss: {total_loss.item():.6e} \"\n",
        "          f\"Residual Loss: {loss_f_val:.6e} Boundary Loss: {loss_b_val:.6e}\")"
      ],
      "metadata": {
        "colab": {
          "base_uri": "https://localhost:8080/"
        },
        "id": "eaJH-xAFD9xg",
        "outputId": "e30ed4a1-2557-459c-b248-8a1064657996"
      },
      "execution_count": null,
      "outputs": [
        {
          "output_type": "stream",
          "name": "stdout",
          "text": [
            "Starting forward training...\n",
            "[Forward] Epoch 1/3000  Total Loss: 9.835143e+01 Residual Loss: 9.829612e+01 Boundary Loss: 5.531398e-02\n",
            "[Forward] Epoch 100/3000  Total Loss: 2.661763e+01 Residual Loss: 2.321815e+01 Boundary Loss: 3.399479e+00\n",
            "[Forward] Epoch 200/3000  Total Loss: 5.964535e+00 Residual Loss: 5.759179e+00 Boundary Loss: 2.053561e-01\n",
            "[Forward] Epoch 300/3000  Total Loss: 2.636856e+00 Residual Loss: 2.310637e+00 Boundary Loss: 3.262193e-01\n",
            "[Forward] Epoch 400/3000  Total Loss: 1.669532e+00 Residual Loss: 1.329861e+00 Boundary Loss: 3.396707e-01\n",
            "[Forward] Epoch 500/3000  Total Loss: 1.053519e+00 Residual Loss: 8.283254e-01 Boundary Loss: 2.251931e-01\n",
            "[Forward] Epoch 600/3000  Total Loss: 2.655681e-01 Residual Loss: 2.262550e-01 Boundary Loss: 3.931312e-02\n",
            "[Forward] Epoch 700/3000  Total Loss: 8.604940e-02 Residual Loss: 6.605007e-02 Boundary Loss: 1.999933e-02\n",
            "[Forward] Epoch 800/3000  Total Loss: 5.884311e-02 Residual Loss: 4.226781e-02 Boundary Loss: 1.657529e-02\n",
            "[Forward] Epoch 900/3000  Total Loss: 4.537971e-02 Residual Loss: 3.154030e-02 Boundary Loss: 1.383941e-02\n",
            "[Forward] Epoch 1000/3000  Total Loss: 3.784853e-02 Residual Loss: 2.572363e-02 Boundary Loss: 1.212490e-02\n",
            "[Forward] Epoch 1100/3000  Total Loss: 3.264627e-02 Residual Loss: 2.158361e-02 Boundary Loss: 1.106266e-02\n",
            "[Forward] Epoch 1200/3000  Total Loss: 2.814138e-02 Residual Loss: 1.777020e-02 Boundary Loss: 1.037119e-02\n",
            "[Forward] Epoch 1300/3000  Total Loss: 2.473990e-02 Residual Loss: 1.505789e-02 Boundary Loss: 9.682005e-03\n",
            "[Forward] Epoch 1400/3000  Total Loss: 2.236296e-02 Residual Loss: 1.333476e-02 Boundary Loss: 9.028201e-03\n",
            "[Forward] Epoch 1500/3000  Total Loss: 2.052887e-02 Residual Loss: 1.204661e-02 Boundary Loss: 8.482264e-03\n",
            "[Forward] Epoch 1600/3000  Total Loss: 1.894926e-02 Residual Loss: 1.092123e-02 Boundary Loss: 8.028029e-03\n",
            "[Forward] Epoch 1700/3000  Total Loss: 1.751560e-02 Residual Loss: 9.878995e-03 Boundary Loss: 7.636602e-03\n",
            "[Forward] Epoch 1800/3000  Total Loss: 1.618763e-02 Residual Loss: 8.897459e-03 Boundary Loss: 7.290172e-03\n",
            "[Forward] Epoch 1900/3000  Total Loss: 1.494455e-02 Residual Loss: 7.967870e-03 Boundary Loss: 6.976680e-03\n",
            "[Forward] Epoch 2000/3000  Total Loss: 1.377304e-02 Residual Loss: 7.088172e-03 Boundary Loss: 6.684866e-03\n",
            "[Forward] Epoch 2100/3000  Total Loss: 1.266751e-02 Residual Loss: 6.262929e-03 Boundary Loss: 6.404582e-03\n",
            "[Forward] Epoch 2200/3000  Total Loss: 1.163414e-02 Residual Loss: 5.503262e-03 Boundary Loss: 6.130881e-03\n",
            "[Forward] Epoch 2300/3000  Total Loss: 1.067639e-02 Residual Loss: 4.811475e-03 Boundary Loss: 5.864916e-03\n",
            "[Forward] Epoch 2400/3000  Total Loss: 9.807384e-03 Residual Loss: 4.195676e-03 Boundary Loss: 5.611708e-03\n",
            "[Forward] Epoch 2500/3000  Total Loss: 9.015384e-03 Residual Loss: 3.645267e-03 Boundary Loss: 5.370118e-03\n",
            "[Forward] Epoch 2600/3000  Total Loss: 8.300571e-03 Residual Loss: 3.167337e-03 Boundary Loss: 5.133233e-03\n",
            "[Forward] Epoch 2700/3000  Total Loss: 7.643151e-03 Residual Loss: 2.752330e-03 Boundary Loss: 4.890821e-03\n",
            "[Forward] Epoch 2800/3000  Total Loss: 7.033666e-03 Residual Loss: 2.395621e-03 Boundary Loss: 4.638045e-03\n",
            "[Forward] Epoch 2900/3000  Total Loss: 6.496518e-03 Residual Loss: 2.127544e-03 Boundary Loss: 4.368974e-03\n",
            "[Forward] Epoch 3000/3000  Total Loss: 5.918605e-03 Residual Loss: 1.821231e-03 Boundary Loss: 4.097374e-03\n"
          ]
        }
      ]
    },
    {
      "cell_type": "markdown",
      "source": [
        "###Train the Inverse PINN\n",
        "\n",
        "In this step, we train a neural network to **discover an unknown parameter** (alpha) in the PDE:\n",
        "\n",
        "- We create a new PINN model and define `alpha` as a trainable parameter.\n",
        "- The source function now depends on `alpha`.\n",
        "- Loss is computed similar to the forward problem: PDE residual + boundary loss.\n",
        "- Both the model parameters and `alpha` are updated using Adam optimizer.\n",
        "- We monitor training by printing total loss, residual loss, boundary loss, and the current value of `alpha`.\n"
      ],
      "metadata": {
        "id": "bQWH53w-XqGL"
      }
    },
    {
      "cell_type": "code",
      "source": [
        "alpha = torch.tensor(0.8, requires_grad=True, device=device)\n",
        "model_inv = PINN(hidden_dim=100, activation=nn.Tanh).to(device)\n",
        "params_inv = list(model_inv.parameters()) + [alpha]\n",
        "optimizer_inv = optim.Adam(params_inv, lr=LEARNING_RATE)\n",
        "\n",
        "def f_inverse_func(x, y, alpha_param):\n",
        "  return -2 * (np.pi**2) * alpha_param * torch.sin(np.pi * x) * torch.sin(np.pi * y)\n",
        "\n",
        "def pinn_loss_inverse(model, alpha_param, x_f, y_f, x_b, y_b, u_b):\n",
        "  x_req = x_f.clone().detach().requires_grad_(True)\n",
        "  y_req = y_f.clone().detach().requires_grad_(True)\n",
        "  u = model(x_req, y_req)\n",
        "  grad_u = torch.autograd.grad(u, [x_req, y_req], grad_outputs=torch.ones_like(u), create_graph=True)\n",
        "  u_x = grad_u[0]; u_y = grad_u[1]\n",
        "  u_xx = torch.autograd.grad(u_x, x_req, grad_outputs=torch.ones_like(u_x), create_graph=True)[0]\n",
        "  u_yy = torch.autograd.grad(u_y, y_req, grad_outputs=torch.ones_like(u_y), create_graph=True)[0]\n",
        "  f_pred = u_xx + u_yy\n",
        "  f_true = f_inverse_func(x_f, y_f, alpha_param)\n",
        "  loss_f = mse_loss(f_pred, f_true)\n",
        "  u_b_pred = model(x_b, y_b)\n",
        "  loss_b = mse_loss(u_b_pred, u_b)\n",
        "  return loss_f + loss_b, loss_f.item(), loss_b.item()\n",
        "\n",
        "print(\"Starting inverse training...\")\n",
        "for epoch in range(1, EPOCHS_INVERSE + 1):\n",
        "  model_inv.train()\n",
        "  optimizer_inv.zero_grad()\n",
        "  total_loss_inv, loss_f_inv, loss_b_inv = pinn_loss_inverse(model_inv, alpha, x_f, y_f, x_b, y_b, u_b)\n",
        "  total_loss_inv.backward()\n",
        "  optimizer_inv.step()\n",
        "  if epoch % PRINT_EVERY == 0 or epoch == 1 or epoch == EPOCHS_INVERSE:\n",
        "    print(f\"[Inverse] Epoch {epoch}/{EPOCHS_INVERSE}  Total Loss: {total_loss_inv.item():.6e} \"\n",
        "          f\"Residual Loss: {loss_f_inv:.6e} Boundary Loss: {loss_b_inv:.6e}  alpha={alpha.item():.6f}\")"
      ],
      "metadata": {
        "colab": {
          "base_uri": "https://localhost:8080/"
        },
        "id": "jrcGU7HqERRn",
        "outputId": "360c5dd9-eb30-4615-eb6c-54526eb9f1ed"
      },
      "execution_count": null,
      "outputs": [
        {
          "output_type": "stream",
          "name": "stdout",
          "text": [
            "Starting inverse training...\n",
            "[Inverse] Epoch 1/5000  Total Loss: 6.342275e+01 Residual Loss: 6.342263e+01 Boundary Loss: 1.184700e-04  alpha=0.799500\n",
            "[Inverse] Epoch 100/5000  Total Loss: 1.251290e+01 Residual Loss: 1.128564e+01 Boundary Loss: 1.227263e+00  alpha=0.756648\n",
            "[Inverse] Epoch 200/5000  Total Loss: 3.959124e+00 Residual Loss: 3.853559e+00 Boundary Loss: 1.055652e-01  alpha=0.745387\n",
            "[Inverse] Epoch 300/5000  Total Loss: 1.919996e+00 Residual Loss: 1.772747e+00 Boundary Loss: 1.472481e-01  alpha=0.739301\n",
            "[Inverse] Epoch 400/5000  Total Loss: 8.969697e-01 Residual Loss: 7.410673e-01 Boundary Loss: 1.559024e-01  alpha=0.735557\n",
            "[Inverse] Epoch 500/5000  Total Loss: 7.278252e-01 Residual Loss: 6.073674e-01 Boundary Loss: 1.204577e-01  alpha=0.733275\n",
            "[Inverse] Epoch 600/5000  Total Loss: 3.537183e-01 Residual Loss: 2.864117e-01 Boundary Loss: 6.730667e-02  alpha=0.731426\n",
            "[Inverse] Epoch 700/5000  Total Loss: 1.175281e-01 Residual Loss: 9.384635e-02 Boundary Loss: 2.368178e-02  alpha=0.730542\n",
            "[Inverse] Epoch 800/5000  Total Loss: 7.719592e-02 Residual Loss: 5.430856e-02 Boundary Loss: 2.288736e-02  alpha=0.730132\n",
            "[Inverse] Epoch 900/5000  Total Loss: 5.876531e-02 Residual Loss: 3.822848e-02 Boundary Loss: 2.053683e-02  alpha=0.729845\n",
            "[Inverse] Epoch 1000/5000  Total Loss: 4.271095e-02 Residual Loss: 2.573238e-02 Boundary Loss: 1.697857e-02  alpha=0.729605\n",
            "[Inverse] Epoch 1100/5000  Total Loss: 2.909140e-02 Residual Loss: 1.598138e-02 Boundary Loss: 1.311002e-02  alpha=0.729413\n",
            "[Inverse] Epoch 1200/5000  Total Loss: 2.032660e-02 Residual Loss: 1.042425e-02 Boundary Loss: 9.902353e-03  alpha=0.729274\n",
            "[Inverse] Epoch 1300/5000  Total Loss: 1.581673e-02 Residual Loss: 8.108166e-03 Boundary Loss: 7.708560e-03  alpha=0.729170\n",
            "[Inverse] Epoch 1400/5000  Total Loss: 1.333226e-02 Residual Loss: 7.000824e-03 Boundary Loss: 6.331440e-03  alpha=0.729083\n",
            "[Inverse] Epoch 1500/5000  Total Loss: 1.161818e-02 Residual Loss: 6.194599e-03 Boundary Loss: 5.423577e-03  alpha=0.729000\n",
            "[Inverse] Epoch 1600/5000  Total Loss: 1.027330e-02 Residual Loss: 5.514852e-03 Boundary Loss: 4.758446e-03  alpha=0.728923\n",
            "[Inverse] Epoch 1700/5000  Total Loss: 9.146206e-03 Residual Loss: 4.915222e-03 Boundary Loss: 4.230984e-03  alpha=0.728845\n",
            "[Inverse] Epoch 1800/5000  Total Loss: 8.160535e-03 Residual Loss: 4.368531e-03 Boundary Loss: 3.792004e-03  alpha=0.728768\n",
            "[Inverse] Epoch 1900/5000  Total Loss: 7.284952e-03 Residual Loss: 3.868632e-03 Boundary Loss: 3.416321e-03  alpha=0.728690\n",
            "[Inverse] Epoch 2000/5000  Total Loss: 6.517379e-03 Residual Loss: 3.424232e-03 Boundary Loss: 3.093147e-03  alpha=0.728616\n",
            "[Inverse] Epoch 2100/5000  Total Loss: 5.858642e-03 Residual Loss: 3.039530e-03 Boundary Loss: 2.819111e-03  alpha=0.728545\n",
            "[Inverse] Epoch 2200/5000  Total Loss: 5.294714e-03 Residual Loss: 2.704719e-03 Boundary Loss: 2.589995e-03  alpha=0.728473\n",
            "[Inverse] Epoch 2300/5000  Total Loss: 4.803448e-03 Residual Loss: 2.405877e-03 Boundary Loss: 2.397571e-03  alpha=0.728405\n",
            "[Inverse] Epoch 2400/5000  Total Loss: 4.365990e-03 Residual Loss: 2.133910e-03 Boundary Loss: 2.232080e-03  alpha=0.728340\n",
            "[Inverse] Epoch 2500/5000  Total Loss: 3.971747e-03 Residual Loss: 1.886250e-03 Boundary Loss: 2.085497e-03  alpha=0.728275\n",
            "[Inverse] Epoch 2600/5000  Total Loss: 3.617833e-03 Residual Loss: 1.666384e-03 Boundary Loss: 1.951450e-03  alpha=0.728210\n",
            "[Inverse] Epoch 2700/5000  Total Loss: 3.290584e-03 Residual Loss: 1.461577e-03 Boundary Loss: 1.829007e-03  alpha=0.728149\n",
            "[Inverse] Epoch 2800/5000  Total Loss: 2.999504e-03 Residual Loss: 1.284924e-03 Boundary Loss: 1.714579e-03  alpha=0.728088\n",
            "[Inverse] Epoch 2900/5000  Total Loss: 2.756821e-03 Residual Loss: 1.149865e-03 Boundary Loss: 1.606956e-03  alpha=0.728028\n",
            "[Inverse] Epoch 3000/5000  Total Loss: 2.503069e-03 Residual Loss: 9.980282e-04 Boundary Loss: 1.505040e-03  alpha=0.727969\n",
            "[Inverse] Epoch 3100/5000  Total Loss: 2.292525e-03 Residual Loss: 8.846329e-04 Boundary Loss: 1.407893e-03  alpha=0.727911\n",
            "[Inverse] Epoch 3200/5000  Total Loss: 2.537344e-03 Residual Loss: 1.206948e-03 Boundary Loss: 1.330396e-03  alpha=0.727853\n",
            "[Inverse] Epoch 3300/5000  Total Loss: 1.966791e-03 Residual Loss: 7.413532e-04 Boundary Loss: 1.225437e-03  alpha=0.727795\n",
            "[Inverse] Epoch 3400/5000  Total Loss: 1.909354e-03 Residual Loss: 7.613859e-04 Boundary Loss: 1.147969e-03  alpha=0.727737\n",
            "[Inverse] Epoch 3500/5000  Total Loss: 1.662847e-03 Residual Loss: 6.029735e-04 Boundary Loss: 1.059873e-03  alpha=0.727679\n",
            "[Inverse] Epoch 3600/5000  Total Loss: 1.549056e-03 Residual Loss: 5.666707e-04 Boundary Loss: 9.823850e-04  alpha=0.727621\n",
            "[Inverse] Epoch 3700/5000  Total Loss: 1.451540e-03 Residual Loss: 5.464235e-04 Boundary Loss: 9.051166e-04  alpha=0.727564\n",
            "[Inverse] Epoch 3800/5000  Total Loss: 1.322918e-03 Residual Loss: 4.919568e-04 Boundary Loss: 8.309616e-04  alpha=0.727506\n",
            "[Inverse] Epoch 3900/5000  Total Loss: 1.232303e-03 Residual Loss: 4.620228e-04 Boundary Loss: 7.702797e-04  alpha=0.727449\n",
            "[Inverse] Epoch 4000/5000  Total Loss: 1.143414e-03 Residual Loss: 4.353676e-04 Boundary Loss: 7.080465e-04  alpha=0.727391\n",
            "[Inverse] Epoch 4100/5000  Total Loss: 1.824816e-03 Residual Loss: 1.154604e-03 Boundary Loss: 6.702122e-04  alpha=0.727334\n",
            "[Inverse] Epoch 4200/5000  Total Loss: 1.068775e-03 Residual Loss: 4.724107e-04 Boundary Loss: 5.963639e-04  alpha=0.727276\n",
            "[Inverse] Epoch 4300/5000  Total Loss: 1.039383e-03 Residual Loss: 4.850794e-04 Boundary Loss: 5.543040e-04  alpha=0.727219\n",
            "[Inverse] Epoch 4400/5000  Total Loss: 8.871896e-04 Residual Loss: 3.755120e-04 Boundary Loss: 5.116776e-04  alpha=0.727162\n",
            "[Inverse] Epoch 4500/5000  Total Loss: 8.301564e-04 Residual Loss: 3.555749e-04 Boundary Loss: 4.745816e-04  alpha=0.727106\n",
            "[Inverse] Epoch 4600/5000  Total Loss: 8.854591e-04 Residual Loss: 4.430930e-04 Boundary Loss: 4.423661e-04  alpha=0.727049\n",
            "[Inverse] Epoch 4700/5000  Total Loss: 2.057746e-03 Residual Loss: 1.611803e-03 Boundary Loss: 4.459429e-04  alpha=0.726994\n",
            "[Inverse] Epoch 4800/5000  Total Loss: 7.001680e-04 Residual Loss: 3.226621e-04 Boundary Loss: 3.775059e-04  alpha=0.726933\n",
            "[Inverse] Epoch 4900/5000  Total Loss: 6.899682e-04 Residual Loss: 3.354191e-04 Boundary Loss: 3.545491e-04  alpha=0.726876\n",
            "[Inverse] Epoch 5000/5000  Total Loss: 6.383204e-04 Residual Loss: 3.103594e-04 Boundary Loss: 3.279610e-04  alpha=0.726818\n"
          ]
        }
      ]
    },
    {
      "cell_type": "markdown",
      "source": [
        "###Predict Solutions for Forward and Inverse Problems\n",
        "\n",
        "In this step, we:\n",
        "\n",
        "- Generate a grid of points in the domain for testing.\n",
        "- Use the trained **forward model** to predict u(x, y) across the domain.\n",
        "- Use the trained **inverse model** to predict u(x, y) and recover the learned parameter alpha.\n",
        "- Store the exact solution for comparison.\n"
      ],
      "metadata": {
        "id": "BORzp41BX3ok"
      }
    },
    {
      "cell_type": "code",
      "source": [
        "n_test = 50\n",
        "x_vals = torch.linspace(0,1,n_test, device=device).reshape(-1,1)\n",
        "y_vals = torch.linspace(0,1,n_test, device=device).reshape(-1,1)\n",
        "Xg, Yg = torch.meshgrid(x_vals.squeeze(), y_vals.squeeze(), indexing=\"ij\")\n",
        "xg_flat = Xg.reshape(-1,1)\n",
        "yg_flat = Yg.reshape(-1,1)\n",
        "\n",
        "model.eval()\n",
        "with torch.no_grad():\n",
        "  u_pred_forward = model(xg_flat, yg_flat).cpu()\n",
        "  u_exact_all = u_exact_func(xg_flat.cpu(), yg_flat.cpu(), A=A_true)\n",
        "\n",
        "model_inv.eval()\n",
        "with torch.no_grad():\n",
        "  u_pred_inverse = model_inv(xg_flat, yg_flat).cpu()\n",
        "  u_exact_inv = u_exact_func(xg_flat.cpu(), yg_flat.cpu(), A=A_true)\n",
        "  learned_alpha = alpha.item()"
      ],
      "metadata": {
        "id": "vSHAGEorEzSv"
      },
      "execution_count": null,
      "outputs": []
    },
    {
      "cell_type": "markdown",
      "source": [
        "# **RESULTS VISUALISATION**\n",
        "\n",
        "## Compute Metrics and Show Sample Predictions\n",
        "\n",
        "In this step, we evaluate the performance of the forward and inverse PINN models:\n",
        "\n",
        "- Compute **Mean Squared Error (MSE)** between predicted and exact solutions.\n",
        "- Compute **Relative L2 Error**.\n",
        "- Compute approximate **accuracy** as a percentage.\n",
        "- Print the **learned parameter alpha** from the inverse problem.\n",
        "- Display a few **sample predictions** from both forward and inverse models alongside the exact values.\n"
      ],
      "metadata": {
        "id": "hCtGwvUxUdf8"
      }
    },
    {
      "cell_type": "code",
      "source": [
        "def compute_metrics(u_pred, u_exact):\n",
        "  diff = u_pred - u_exact\n",
        "  mse = torch.mean(diff**2).item()\n",
        "  rel_l2 = (torch.norm(diff) / torch.norm(u_exact)).item()\n",
        "  acc_percent = max(0.0, (1 - rel_l2) * 100)\n",
        "  return mse, rel_l2, acc_percent\n",
        "\n",
        "mse_fwd, rel_fwd, acc_fwd = compute_metrics(u_pred_forward, u_exact_all)\n",
        "mse_inv, rel_inv, acc_inv = compute_metrics(u_pred_inverse, u_exact_all)\n",
        "\n",
        "print(\"\\n--- Forward-trained model metrics ---\")\n",
        "print(\"MSE:\", mse_fwd)\n",
        "print(\"Relative L2 Error:\", rel_fwd)\n",
        "print(f\"Accuracy (approx): {acc_fwd:.2f}%\")\n",
        "\n",
        "print(\"\\n--- Inverse-trained model metrics ---\")\n",
        "print(\"MSE:\", mse_inv)\n",
        "print(\"Relative L2 Error:\", rel_inv)\n",
        "print(f\"Accuracy (approx): {acc_inv:.2f}%\")\n",
        "print(\"Learned alpha (inverse):\", learned_alpha)\n",
        "print(\"True amplitude A_true:\", A_true)\n",
        "\n",
        "print(\"\\nSample predictions (forward model):\")\n",
        "for i in range(5):\n",
        "  print(f\"x={xg_flat[i].item():.3f}, y={yg_flat[i].item():.3f}, u_pred={u_pred_forward[i].item():.6f}, u_exact={u_exact_all[i].item():.6f}\")\n",
        "print(\"\\nSample predictions (inverse model):\")\n",
        "for i in range(5):\n",
        "  print(f\"x={xg_flat[i].item():.3f}, y={yg_flat[i].item():.3f}, u_pred={u_pred_inverse[i].item():.6f}, u_exact={u_exact_inv[i].item():.6f}\")"
      ],
      "metadata": {
        "colab": {
          "base_uri": "https://localhost:8080/"
        },
        "id": "s5RPbGqGE7vx",
        "outputId": "95940332-5e5b-424c-d7a9-c95dca02fb70"
      },
      "execution_count": null,
      "outputs": [
        {
          "output_type": "stream",
          "name": "stdout",
          "text": [
            "\n",
            "--- Forward-trained model metrics ---\n",
            "MSE: 0.001566954655572772\n",
            "Relative L2 Error: 0.08078527450561523\n",
            "Accuracy (approx): 91.92%\n",
            "\n",
            "--- Inverse-trained model metrics ---\n",
            "MSE: 0.01638885773718357\n",
            "Relative L2 Error: 0.26126325130462646\n",
            "Accuracy (approx): 73.87%\n",
            "Learned alpha (inverse): 0.726817786693573\n",
            "True amplitude A_true: 1.0\n",
            "\n",
            "Sample predictions (forward model):\n",
            "x=0.000, y=0.000, u_pred=-0.124599, u_exact=0.000000\n",
            "x=0.000, y=0.020, u_pred=-0.112743, u_exact=0.000000\n",
            "x=0.000, y=0.041, u_pred=-0.101014, u_exact=0.000000\n",
            "x=0.000, y=0.061, u_pred=-0.089439, u_exact=0.000000\n",
            "x=0.000, y=0.082, u_pred=-0.078044, u_exact=0.000000\n",
            "\n",
            "Sample predictions (inverse model):\n",
            "x=0.000, y=0.000, u_pred=-0.036035, u_exact=0.000000\n",
            "x=0.000, y=0.020, u_pred=-0.031143, u_exact=0.000000\n",
            "x=0.000, y=0.041, u_pred=-0.026441, u_exact=0.000000\n",
            "x=0.000, y=0.061, u_pred=-0.021942, u_exact=0.000000\n",
            "x=0.000, y=0.082, u_pred=-0.017661, u_exact=0.000000\n"
          ]
        }
      ]
    },
    {
      "cell_type": "markdown",
      "source": [
        "##Visualize Predictions and Errors\n",
        "\n",
        "In this step, we plot heatmaps to visually compare the forward and inverse PINN predictions against the exact solution:\n",
        "\n",
        "- First row: forward problem\n",
        "  - Predicted solution\n",
        "  - Exact solution\n",
        "  - Absolute error\n",
        "- Second row: inverse problem\n",
        "  - Predicted solution\n",
        "  - Exact solution\n",
        "  - Absolute error\n",
        "\n",
        "This helps to see where the model is accurate and where errors are larger.\n"
      ],
      "metadata": {
        "id": "1LZ3d05hUstj"
      }
    },
    {
      "cell_type": "code",
      "source": [
        "u_pred_forward_np = u_pred_forward.numpy().reshape(n_test, n_test)\n",
        "u_exact_np = u_exact_all.numpy().reshape(n_test, n_test)\n",
        "u_pred_inverse_np = u_pred_inverse.numpy().reshape(n_test, n_test)\n",
        "\n",
        "fig, axs = plt.subplots(2,3, figsize=(18,10))\n",
        "\n",
        "axs[0,0].imshow(u_pred_forward_np, origin='lower', extent=[0,1,0,1])\n",
        "axs[0,0].set_title(\"Forward: Predicted\")\n",
        "axs[0,1].imshow(u_exact_np, origin='lower', extent=[0,1,0,1])\n",
        "axs[0,1].set_title(\"Exact\")\n",
        "axs[0,2].imshow(np.abs(u_pred_forward_np - u_exact_np), origin='lower', extent=[0,1,0,1])\n",
        "axs[0,2].set_title(\"Forward Absolute Error\")\n",
        "\n",
        "axs[1,0].imshow(u_pred_inverse_np, origin='lower', extent=[0,1,0,1])\n",
        "axs[1,0].set_title(\"Inverse: Predicted\")\n",
        "axs[1,1].imshow(u_exact_np, origin='lower', extent=[0,1,0,1])\n",
        "axs[1,1].set_title(\"Exact\")\n",
        "axs[1,2].imshow(np.abs(u_pred_inverse_np - u_exact_np), origin='lower', extent=[0,1,0,1])\n",
        "axs[1,2].set_title(\"Inverse Absolute Error\")\n",
        "\n",
        "for ax in axs.flat:\n",
        "  ax.set_xlabel(\"x\")\n",
        "  ax.set_ylabel(\"y\")\n",
        "\n",
        "plt.tight_layout()\n",
        "plt.show()"
      ],
      "metadata": {
        "colab": {
          "base_uri": "https://localhost:8080/",
          "height": 682
        },
        "id": "RBs9y1XnFbto",
        "outputId": "28e1579c-45f2-45e1-b71a-5fb275508f84"
      },
      "execution_count": null,
      "outputs": [
        {
          "output_type": "display_data",
          "data": {
            "text/plain": [
              "<Figure size 1800x1000 with 6 Axes>"
            ],
            "image/png": "[encoded data removed]"
          },
          "metadata": {}
        }
      ]
    }
  ]
}