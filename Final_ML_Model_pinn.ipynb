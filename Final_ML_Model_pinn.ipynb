{
  "cells": [
    {
      "cell_type": "markdown",
      "metadata": {
        "id": "view-in-github",
        "colab_type": "text"
      },
      "source": [
        "<a href=\"https://colab.research.google.com/github/Navikasrikanth/Physic-Informed-Neural-Network/blob/main/Final_ML_Model_pinn.ipynb\" target=\"_parent\"><img src=\"https://colab.research.google.com/assets/colab-badge.svg\" alt=\"Open In Colab\"/></a>"
      ]
    },
    {
      "cell_type": "markdown",
      "metadata": {
        "id": "M6IjSpv2bQHE"
      },
      "source": [
        "#Step 1: Define Poisson’s Equation and Boundary Conditions\n",
        "##We are solving the 2D Poisson equation:\n",
        "\n",
        "Δu(x, y) = f(x, y), for (x, y) ∈ [0,1] × [0,1]\n",
        "\n",
        "Boundary conditions: u(x, y) = 0, for (x, y) on the boundary (Dirichlet BC).\n",
        "\n",
        "Here, Δ is the Laplace operator."
      ]
    },
    {
      "cell_type": "code",
      "execution_count": 10,
      "metadata": {
        "colab": {
          "base_uri": "https://localhost:8080/"
        },
        "id": "3M_LruOfa8Yp",
        "outputId": "746147d6-13cf-41c9-b9a6-2acb0d3c6534"
      },
      "outputs": [
        {
          "output_type": "stream",
          "name": "stdout",
          "text": [
            "Architecture: Fully-connected MLP (2 -> 200 -> 200 -> 200 -> 1)\n",
            "Solution type: sin(pi*x)*sin(pi*y)\n",
            "Activation: Tanh\n",
            "Learning rate: 0.0005\n",
            "Noise level: 0.0\n",
            "Collocation points (interior): 30000\n",
            "Boundary points: 800\n",
            "Epochs (forward): 3000 Epochs (inverse): 5000\n",
            "Device: cuda\n"
          ]
        }
      ],
      "source": [
        "import torch\n",
        "import torch.nn as nn\n",
        "import torch.optim as optim\n",
        "import numpy as np\n",
        "import matplotlib.pyplot as plt\n",
        "torch.set_default_dtype(torch.float32)\n",
        "\n",
        "device = torch.device(\"cuda\" if torch.cuda.is_available() else \"cpu\")\n",
        "torch.manual_seed(42)\n",
        "np.random.seed(42)\n",
        "import torch\n",
        "torch.cuda.is_available()\n",
        "\n",
        "POLY_TYPE = \"sin(pi*x)*sin(pi*y)\"\n",
        "ACTIVATION = \"Tanh\"\n",
        "LEARNING_RATE = 5e-4\n",
        "NOISE_LEVEL = 0.0\n",
        "N_F = 30000\n",
        "N_B = 800\n",
        "EPOCHS_FORWARD = 3000\n",
        "EPOCHS_INVERSE = 5000\n",
        "PRINT_EVERY = 100\n",
        "\n",
        "print(\"Architecture: Fully-connected MLP (2 -> 200 -> 200 -> 200 -> 1)\")\n",
        "print(\"Solution type:\", POLY_TYPE)\n",
        "print(\"Activation:\", ACTIVATION)\n",
        "print(\"Learning rate:\", LEARNING_RATE)\n",
        "print(\"Noise level:\", NOISE_LEVEL)\n",
        "print(\"Collocation points (interior):\", N_F)\n",
        "print(\"Boundary points:\", N_B)\n",
        "print(\"Epochs (forward):\", EPOCHS_FORWARD, \"Epochs (inverse):\", EPOCHS_INVERSE)\n",
        "print(\"Device:\", device)\n",
        "\n"
      ]
    },
    {
      "cell_type": "markdown",
      "metadata": {
        "id": "T9h6_s0nbjCQ"
      },
      "source": [
        "###Generate Forward Problem Data\n",
        "\n",
        "In this step, we set up the data for the forward problem:\n",
        "\n",
        "- We define the exact solution `u(x, y)` as `A * sin(pi*x) * sin(pi*y)`.\n",
        "- The source function `f(x, y)` is defined as `-2 * pi^2 * A * sin(pi*x) * sin(pi*y)`.\n",
        "- The boundary function `g(x, y)` gives the values of `u` on the edges of the domain.\n",
        "\n",
        "Next, we generate:\n",
        "\n",
        "- **Interior collocation points** randomly inside the square domain.\n",
        "- **Boundary points** along the edges of the domain.\n",
        "- **Boundary values** using the boundary function.\n",
        "\n",
        "\n"
      ]
    },
    {
      "cell_type": "code",
      "execution_count": 11,
      "metadata": {
        "id": "Sq3KFjqsbXo_"
      },
      "outputs": [],
      "source": [
        "A_true = 1.0\n",
        "\n",
        "def u_exact_func(x, y, A=A_true):\n",
        "  return A * torch.sin(np.pi * x) * torch.sin(np.pi * y)\n",
        "\n",
        "def f_forward_func(x, y, A=A_true):\n",
        "  return -2 * (np.pi**2) * A * torch.sin(np.pi * x) * torch.sin(np.pi * y)\n",
        "\n",
        "def g_boundary(x, y, A=A_true):\n",
        "  return u_exact_func(x, y, A=A)\n",
        "\n",
        "x_f = torch.rand(N_F, 1, device=device) #compute collocation points\n",
        "y_f = torch.rand(N_F, 1, device=device)\n",
        "\n",
        "n_edge = N_B // 4\n",
        "x_b = torch.cat([                #combine all boundary points\n",
        "torch.rand(n_edge,1),\n",
        "torch.zeros(n_edge,1),\n",
        "torch.ones(n_edge,1),\n",
        "torch.rand(n_edge,1)\n",
        "], dim=0).to(device)\n",
        "y_b = torch.cat([\n",
        "torch.zeros(n_edge,1),\n",
        "torch.rand(n_edge,1),\n",
        "torch.rand(n_edge,1),\n",
        "torch.ones(n_edge,1)\n",
        "], dim=0).to(device)\n",
        "\n",
        "u_b = g_boundary(x_b, y_b).to(device)        #assign boundary points to the boumdary function and predict exact boundary values\n",
        "if NOISE_LEVEL > 0:\n",
        "  u_b = u_b + NOISE_LEVEL * torch.randn_like(u_b)\n"
      ]
    },
    {
      "cell_type": "markdown",
      "metadata": {
        "id": "idLod6K0cj_y"
      },
      "source": [
        "# Define Neural Network\n",
        "\n",
        "In this step, we define a simple fully connected neural network with:\n",
        "\n",
        "- Input: two values (x and y)\n",
        "- Three hidden layers with 200 neurons and Tanh activation\n",
        "- Output: single value u(x, y)\n",
        "- Xavier initialization for all linear layer weights and zero initialization for biases\n",
        "\n",
        "\n",
        "## **Xavier (Glorot) Initialization**\n",
        "Xavier initialization (also called Glorot initialization) is a way to set the initial weights of a neural network so that signals flow properly through the layers at the start of training.\n",
        "\n",
        "\n",
        "When training neural networks, how we initialize weights matters.  \n",
        "- If weights are **too small** → activations and gradients vanish.  \n",
        "- If weights are **too large** → activations and gradients explode.  \n",
        "\n",
        "\n",
        "**Xavier initialization** (Glorot & Bengio, 2010) balances this by keeping the variance of activations roughly the same across all layers.\n"
      ]
    },
    {
      "cell_type": "code",
      "execution_count": 12,
      "metadata": {
        "id": "Cz-f_iLZbosw"
      },
      "outputs": [],
      "source": [
        "class PINN(nn.Module):                                       #initialise a fully connected nn with x,y inputs\n",
        "  def __init__(self, hidden_dim=200, activation=nn.Tanh):\n",
        "    super().__init__()\n",
        "    self.fc1 = nn.Linear(2, hidden_dim)\n",
        "    self.act1 = activation()\n",
        "    self.fc2 = nn.Linear(hidden_dim, hidden_dim)\n",
        "    self.act2 = activation()\n",
        "    self.fc3 = nn.Linear(hidden_dim, hidden_dim)\n",
        "    self.act3 = activation()\n",
        "    self.fc4 = nn.Linear(hidden_dim, 1)\n",
        "\n",
        "    # Xavier init\n",
        "    for m in [self.fc1, self.fc2, self.fc3, self.fc4]:\n",
        "      nn.init.xavier_normal_(m.weight)\n",
        "      nn.init.zeros_(m.bias)\n",
        "\n",
        "  def forward(self, x, y):                  #moving forward by using activation function through each layer till output\n",
        "    inp = torch.cat([x, y], dim=1)\n",
        "    z = self.act1(self.fc1(inp))\n",
        "    z = self.act2(self.fc2(z))\n",
        "    z = self.act3(self.fc3(z))\n",
        "    out = self.fc4(z)\n",
        "    return out\n",
        "\n"
      ]
    },
    {
      "cell_type": "markdown",
      "metadata": {
        "id": "UCo5qYZddIWz"
      },
      "source": [
        "# Define Loss Function\n",
        "\n",
        "In this step, we define how the model will be trained:\n",
        "\n",
        "- Compute the Laplacian (second derivatives) of the predicted u(x, y) using automatic differentiation.\n",
        "- Compute the PDE residual loss at interior collocation points.\n",
        "- Compute the boundary loss at boundary points.\n",
        "- Total loss = PDE residual loss + boundary loss\n",
        "- Return both the total loss and individual losses for monitoring.\n"
      ]
    },
    {
      "cell_type": "code",
      "execution_count": 13,
      "metadata": {
        "id": "fl0WWjvVdJiC"
      },
      "outputs": [],
      "source": [
        "mse_loss = nn.MSELoss()\n",
        "\n",
        "def laplacian_u(model, x, y):                             #computes uxx+uyy using automatic differentiation\n",
        "  x_req = x.clone().detach().requires_grad_(True)\n",
        "  y_req = y.clone().detach().requires_grad_(True)\n",
        "  u = model(x_req, y_req)\n",
        "  grad_u = torch.autograd.grad(u, [x_req, y_req], grad_outputs=torch.ones_like(u), create_graph=True)\n",
        "  u_x = grad_u[0]\n",
        "  u_y = grad_u[1]\n",
        "  u_xx = torch.autograd.grad(u_x, x_req, grad_outputs=torch.ones_like(u_x), create_graph=True)[0]\n",
        "  u_yy = torch.autograd.grad(u_y, y_req, grad_outputs=torch.ones_like(u_y), create_graph=True)[0]\n",
        "  return u_xx + u_yy\n",
        "\n",
        "def pinn_loss_forward(model, x_f, y_f, x_b, y_b, u_b):\n",
        "  f_pred = laplacian_u(model, x_f, y_f)           #computing left hand side u(x,y) at collocation points\n",
        "  f_true = f_forward_func(x_f, y_f).to(device)    #computing right hand side true function f(x,y)\n",
        "  #loss_f = mse_loss(f_pred, f_true)               #residual loss\n",
        "  loss_f = torch.mean((f_pred - f_true)**2) / (torch.mean(f_true**2) + 1e-8)\n",
        "  u_b_pred = model(x_b, y_b)\n",
        "  loss_b = mse_loss(u_b_pred, u_b)                #boundary loss\n",
        "  return loss_f + loss_b, loss_f.item(), loss_b.item()"
      ]
    },
    {
      "cell_type": "markdown",
      "metadata": {
        "id": "qb8uRCA9dPT7"
      },
      "source": [
        "# Train the Forward PINN\n",
        "\n",
        "In this step, we train the neural network to solve the Poisson equation:\n",
        "\n",
        "- Use the Adam optimizer with a specified learning rate.\n",
        "- For each epoch:\n",
        "  - Compute the total loss using the `pinn_loss_forward` function.\n",
        "  - Perform backpropagation and update the model parameters.\n",
        "  - Periodically print the total loss, PDE residual loss, and boundary loss to monitor training progress.\n"
      ]
    },
    {
      "cell_type": "code",
      "execution_count": 14,
      "metadata": {
        "colab": {
          "base_uri": "https://localhost:8080/"
        },
        "id": "5C8gDKcLdj6m",
        "outputId": "f19d7f4a-c9db-4b98-9e7b-d0cd077b3d4b"
      },
      "outputs": [
        {
          "output_type": "stream",
          "name": "stdout",
          "text": [
            "Starting forward training...\n",
            "[Forward] Epoch 1/3000  Total: 1.122806e+00  f_loss: 1.010256e+00  b_loss: 1.125498e-01\n",
            "[Forward] Epoch 100/3000  Total: 1.160370e-01  f_loss: 8.201018e-02  b_loss: 3.402681e-02\n",
            "[Forward] Epoch 200/3000  Total: 4.308339e-02  f_loss: 2.990763e-02  b_loss: 1.317576e-02\n",
            "[Forward] Epoch 300/3000  Total: 1.109114e-02  f_loss: 5.871294e-03  b_loss: 5.219852e-03\n",
            "[Forward] Epoch 400/3000  Total: 2.517569e-03  f_loss: 1.379803e-03  b_loss: 1.137766e-03\n",
            "[Forward] Epoch 500/3000  Total: 7.329967e-04  f_loss: 4.735841e-04  b_loss: 2.594126e-04\n",
            "[Forward] Epoch 600/3000  Total: 4.828398e-04  f_loss: 2.738959e-04  b_loss: 2.089438e-04\n",
            "[Forward] Epoch 700/3000  Total: 2.282278e-04  f_loss: 1.820633e-04  b_loss: 4.616456e-05\n",
            "[Forward] Epoch 800/3000  Total: 1.781623e-04  f_loss: 1.371005e-04  b_loss: 4.106177e-05\n",
            "[Forward] Epoch 900/3000  Total: 1.294342e-04  f_loss: 1.080243e-04  b_loss: 2.140987e-05\n",
            "[Forward] Epoch 1000/3000  Total: 1.079431e-04  f_loss: 8.988672e-05  b_loss: 1.805633e-05\n",
            "[Forward] Epoch 1100/3000  Total: 9.239151e-05  f_loss: 7.881020e-05  b_loss: 1.358131e-05\n",
            "[Forward] Epoch 1200/3000  Total: 3.752607e-04  f_loss: 9.550439e-05  b_loss: 2.797563e-04\n",
            "[Forward] Epoch 1300/3000  Total: 7.213923e-05  f_loss: 6.330456e-05  b_loss: 8.834666e-06\n",
            "[Forward] Epoch 1400/3000  Total: 6.964657e-05  f_loss: 5.750776e-05  b_loss: 1.213881e-05\n",
            "[Forward] Epoch 1500/3000  Total: 6.063813e-05  f_loss: 5.225325e-05  b_loss: 8.384873e-06\n",
            "[Forward] Epoch 1600/3000  Total: 1.329092e-03  f_loss: 1.644986e-04  b_loss: 1.164593e-03\n",
            "[Forward] Epoch 1700/3000  Total: 4.892462e-05  f_loss: 4.415401e-05  b_loss: 4.770606e-06\n",
            "[Forward] Epoch 1800/3000  Total: 1.261048e-04  f_loss: 5.388396e-05  b_loss: 7.222082e-05\n",
            "[Forward] Epoch 1900/3000  Total: 1.359661e-03  f_loss: 1.626294e-04  b_loss: 1.197031e-03\n",
            "[Forward] Epoch 2000/3000  Total: 3.941189e-05  f_loss: 3.587574e-05  b_loss: 3.536147e-06\n",
            "[Forward] Epoch 2100/3000  Total: 4.354062e-05  f_loss: 3.467430e-05  b_loss: 8.866316e-06\n",
            "[Forward] Epoch 2200/3000  Total: 3.478299e-05  f_loss: 3.178860e-05  b_loss: 2.994386e-06\n",
            "[Forward] Epoch 2300/3000  Total: 3.274117e-05  f_loss: 2.966822e-05  b_loss: 3.072948e-06\n",
            "[Forward] Epoch 2400/3000  Total: 4.633874e-05  f_loss: 2.965797e-05  b_loss: 1.668077e-05\n",
            "[Forward] Epoch 2500/3000  Total: 2.893643e-05  f_loss: 2.640977e-05  b_loss: 2.526661e-06\n",
            "[Forward] Epoch 2600/3000  Total: 2.519294e-03  f_loss: 2.367919e-04  b_loss: 2.282502e-03\n",
            "[Forward] Epoch 2700/3000  Total: 2.623853e-05  f_loss: 2.380436e-05  b_loss: 2.434172e-06\n",
            "[Forward] Epoch 2800/3000  Total: 2.438678e-05  f_loss: 2.208222e-05  b_loss: 2.304553e-06\n",
            "[Forward] Epoch 2900/3000  Total: 2.286624e-05  f_loss: 2.062635e-05  b_loss: 2.239893e-06\n",
            "[Forward] Epoch 3000/3000  Total: 4.828333e-05  f_loss: 2.272209e-05  b_loss: 2.556124e-05\n"
          ]
        }
      ],
      "source": [
        "# ---------- Forward training ----------\n",
        "model = PINN().to(device)\n",
        "optimizer = optim.Adam(model.parameters(), lr=5e-4)\n",
        "mse_loss = nn.MSELoss()\n",
        "\n",
        "print(\"Starting forward training...\")\n",
        "for epoch in range(1, 3001):\n",
        "    model.train()\n",
        "    optimizer.zero_grad()\n",
        "\n",
        "    total_loss, loss_f, loss_b = pinn_loss_forward(model, x_f, y_f, x_b, y_b, u_b)\n",
        "    total_loss.backward()\n",
        "\n",
        "    f_pred = laplacian_u(model, x_f, y_f)\n",
        "    f_true = f_forward_func(x_f, y_f).to(device)\n",
        "\n",
        "    #Normalize PDE residual\n",
        "    loss_f = torch.mean((f_pred - f_true)**2) / (torch.mean(f_true**2) + 1e-8)\n",
        "    u_b_pred = model(x_b, y_b)\n",
        "    loss_b = mse_loss(u_b_pred, u_b)\n",
        "\n",
        "    total_loss = loss_f + loss_b\n",
        "    total_loss.backward()\n",
        "    torch.nn.utils.clip_grad_norm_(model.parameters(), max_norm=5.0)\n",
        "    optimizer.step()\n",
        "\n",
        "    if epoch % 100 == 0 or epoch == 1:\n",
        "        print(f\"[Forward] Epoch {epoch}/3000  Total: {total_loss.item():.6e}  f_loss: {loss_f.item():.6e}  b_loss: {loss_b.item():.6e}\")\n"
      ]
    },
    {
      "cell_type": "markdown",
      "metadata": {
        "id": "a_0uBjMnqHZO"
      },
      "source": [
        "#Inverse Problem Training\n",
        "\n",
        "Start from the forward-trained model to estimate the unknown 𝛼.\n",
        "\n",
        "Use beta as a trainable parameter with 𝛼=exp(𝛽)\n",
        "\n",
        "Train for 12,000 epochs with weighted PDE and boundary losses.\n",
        "\n",
        "Track the best\n",
        "𝛼 and total loss.\n",
        "\n",
        "Fine-tune for 500 additional epochs at a lower learning rate to refine\n",
        "𝛼\n",
        "\n",
        "Epoch display shows correct progress for both main training and fine-tuning."
      ]
    },
    {
      "cell_type": "code",
      "execution_count": 15,
      "metadata": {
        "id": "NJEXlAJYdxgv",
        "colab": {
          "base_uri": "https://localhost:8080/"
        },
        "outputId": "58ed8516-df73-4c6c-baa2-4b2edecc3c17"
      },
      "outputs": [
        {
          "output_type": "stream",
          "name": "stdout",
          "text": [
            "Starting inverse training...\n",
            "[Inverse] Epoch 1/12000  Total: 1.225558e-01  f_loss: 6.123400e-02  b_loss: 8.777406e-05  alpha=0.800000\n",
            "[Inverse] Epoch 100/12000  Total: 5.256696e-05  f_loss: 2.424395e-05  b_loss: 4.079053e-06  alpha=0.813677\n",
            "[Inverse] Epoch 200/12000  Total: 3.529952e-05  f_loss: 1.666178e-05  b_loss: 1.975951e-06  alpha=0.814012\n",
            "[Inverse] Epoch 300/12000  Total: 2.978658e-05  f_loss: 1.419447e-05  b_loss: 1.397650e-06  alpha=0.814235\n",
            "[Inverse] Epoch 400/12000  Total: 3.538305e-04  f_loss: 1.050884e-04  b_loss: 1.436536e-04  alpha=0.815141\n",
            "[Inverse] Epoch 500/12000  Total: 2.748154e-05  f_loss: 1.239658e-05  b_loss: 2.688388e-06  alpha=0.816860\n",
            "[Inverse] Epoch 600/12000  Total: 2.197280e-05  f_loss: 1.045377e-05  b_loss: 1.065261e-06  alpha=0.816634\n",
            "[Inverse] Epoch 700/12000  Total: 8.151274e-04  f_loss: 1.749849e-04  b_loss: 4.651575e-04  alpha=0.818620\n",
            "[Inverse] Epoch 800/12000  Total: 7.668891e-04  f_loss: 2.062933e-04  b_loss: 3.543026e-04  alpha=0.818654\n",
            "[Inverse] Epoch 900/12000  Total: 1.913691e-05  f_loss: 8.891460e-06  b_loss: 1.353994e-06  alpha=0.819462\n",
            "[Inverse] Epoch 1000/12000  Total: 2.992085e-05  f_loss: 1.149852e-05  b_loss: 6.923806e-06  alpha=0.818914\n",
            "[Inverse] Epoch 1100/12000  Total: 1.912387e-05  f_loss: 8.626935e-06  b_loss: 1.870005e-06  alpha=0.821430\n",
            "[Inverse] Epoch 1200/12000  Total: 2.002105e-05  f_loss: 8.742789e-06  b_loss: 2.535467e-06  alpha=0.822643\n",
            "[Inverse] Epoch 1300/12000  Total: 2.290223e-05  f_loss: 9.719832e-06  b_loss: 3.462569e-06  alpha=0.823814\n",
            "[Inverse] Epoch 1400/12000  Total: 1.640093e-05  f_loss: 7.498811e-06  b_loss: 1.403304e-06  alpha=0.823326\n",
            "[Inverse] Epoch 1500/12000  Total: 1.552737e-05  f_loss: 7.097509e-06  b_loss: 1.332348e-06  alpha=0.822905\n",
            "[Inverse] Epoch 1600/12000  Total: 1.477879e-05  f_loss: 6.749208e-06  b_loss: 1.280368e-06  alpha=0.822526\n",
            "[Inverse] Epoch 1700/12000  Total: 1.409057e-05  f_loss: 6.428036e-06  b_loss: 1.234495e-06  alpha=0.822167\n",
            "[Inverse] Epoch 1800/12000  Total: 1.343947e-05  f_loss: 6.123161e-06  b_loss: 1.193151e-06  alpha=0.821817\n",
            "[Inverse] Epoch 1900/12000  Total: 1.281485e-05  f_loss: 5.829442e-06  b_loss: 1.155967e-06  alpha=0.821471\n",
            "[Inverse] Epoch 2000/12000  Total: 1.221190e-05  f_loss: 5.544722e-06  b_loss: 1.122454e-06  alpha=0.821126\n",
            "[Inverse] Epoch 2100/12000  Total: 1.162888e-05  f_loss: 5.268465e-06  b_loss: 1.091949e-06  alpha=0.820781\n",
            "[Inverse] Epoch 2200/12000  Total: 1.106611e-05  f_loss: 5.001085e-06  b_loss: 1.063938e-06  alpha=0.820433\n",
            "[Inverse] Epoch 2300/12000  Total: 1.052454e-05  f_loss: 4.743377e-06  b_loss: 1.037782e-06  alpha=0.820082\n",
            "[Inverse] Epoch 2400/12000  Total: 1.000602e-05  f_loss: 4.496452e-06  b_loss: 1.013117e-06  alpha=0.819728\n",
            "[Inverse] Epoch 2500/12000  Total: 9.512440e-06  f_loss: 4.261395e-06  b_loss: 9.896502e-07  alpha=0.819370\n",
            "[Inverse] Epoch 2600/12000  Total: 2.012322e-05  f_loss: 7.525463e-06  b_loss: 5.072292e-06  alpha=0.819907\n",
            "[Inverse] Epoch 2700/12000  Total: 9.030968e-06  f_loss: 4.032544e-06  b_loss: 9.658797e-07  alpha=0.819654\n",
            "[Inverse] Epoch 2800/12000  Total: 2.409862e-05  f_loss: 7.139261e-06  b_loss: 9.820099e-06  alpha=0.820578\n",
            "[Inverse] Epoch 2900/12000  Total: 1.740655e-04  f_loss: 4.415164e-05  b_loss: 8.576224e-05  alpha=0.820427\n",
            "[Inverse] Epoch 3000/12000  Total: 8.293947e-06  f_loss: 3.652649e-06  b_loss: 9.886484e-07  alpha=0.820081\n",
            "[Inverse] Epoch 3100/12000  Total: 1.271073e-04  f_loss: 2.583481e-05  b_loss: 7.543770e-05  alpha=0.820482\n",
            "[Inverse] Epoch 3200/12000  Total: 8.061309e-06  f_loss: 3.543971e-06  b_loss: 9.733666e-07  alpha=0.820514\n",
            "[Inverse] Epoch 3300/12000  Total: 1.265839e-05  f_loss: 4.742766e-06  b_loss: 3.172854e-06  alpha=0.820732\n",
            "[Inverse] Epoch 3400/12000  Total: 7.745772e-06  f_loss: 3.374059e-06  b_loss: 9.976540e-07  alpha=0.820867\n",
            "[Inverse] Epoch 3500/12000  Total: 7.331334e-06  f_loss: 3.197466e-06  b_loss: 9.364006e-07  alpha=0.820410\n",
            "[Inverse] Epoch 3600/12000  Total: 9.056800e-06  f_loss: 3.527215e-06  b_loss: 2.002371e-06  alpha=0.821150\n",
            "[Inverse] Epoch 3700/12000  Total: 6.271689e-04  f_loss: 1.803971e-04  b_loss: 2.663747e-04  alpha=0.821348\n",
            "[Inverse] Epoch 3800/12000  Total: 7.077867e-06  f_loss: 3.060260e-06  b_loss: 9.573475e-07  alpha=0.821132\n",
            "[Inverse] Epoch 3900/12000  Total: 8.038443e-06  f_loss: 3.246191e-06  b_loss: 1.546061e-06  alpha=0.821420\n",
            "[Inverse] Epoch 4000/12000  Total: 1.025848e-05  f_loss: 4.099705e-06  b_loss: 2.059067e-06  alpha=0.821814\n",
            "[Inverse] Epoch 4100/12000  Total: 7.524661e-06  f_loss: 3.167409e-06  b_loss: 1.189844e-06  alpha=0.822115\n",
            "[Inverse] Epoch 4200/12000  Total: 1.481414e-05  f_loss: 4.799785e-06  b_loss: 5.214569e-06  alpha=0.822323\n",
            "[Inverse] Epoch 4300/12000  Total: 6.494661e-06  f_loss: 2.797503e-06  b_loss: 8.996543e-07  alpha=0.821889\n",
            "[Inverse] Epoch 4400/12000  Total: 2.430435e-05  f_loss: 7.152945e-06  b_loss: 9.998460e-06  alpha=0.822181\n",
            "[Inverse] Epoch 4500/12000  Total: 8.449338e-05  f_loss: 1.677837e-05  b_loss: 5.093663e-05  alpha=0.822681\n",
            "[Inverse] Epoch 4600/12000  Total: 6.254417e-06  f_loss: 2.677626e-06  b_loss: 8.991640e-07  alpha=0.822436\n",
            "[Inverse] Epoch 4700/12000  Total: 7.540113e-06  f_loss: 2.933352e-06  b_loss: 1.673409e-06  alpha=0.823013\n",
            "[Inverse] Epoch 4800/12000  Total: 1.071359e-05  f_loss: 4.336538e-06  b_loss: 2.040510e-06  alpha=0.823252\n",
            "[Inverse] Epoch 4900/12000  Total: 7.215644e-06  f_loss: 2.882789e-06  b_loss: 1.450065e-06  alpha=0.823286\n",
            "[Inverse] Epoch 5000/12000  Total: 6.001840e-06  f_loss: 2.562045e-06  b_loss: 8.777495e-07  alpha=0.823018\n",
            "[Inverse] Epoch 5100/12000  Total: 5.891934e-06  f_loss: 2.515852e-06  b_loss: 8.602309e-07  alpha=0.822773\n",
            "[Inverse] Epoch 5200/12000  Total: 5.791023e-06  f_loss: 2.472889e-06  b_loss: 8.452449e-07  alpha=0.822537\n",
            "[Inverse] Epoch 5300/12000  Total: 5.695682e-06  f_loss: 2.431790e-06  b_loss: 8.321028e-07  alpha=0.822305\n",
            "[Inverse] Epoch 5400/12000  Total: 5.604230e-06  f_loss: 2.391991e-06  b_loss: 8.202476e-07  alpha=0.822074\n",
            "[Inverse] Epoch 5500/12000  Total: 5.515703e-06  f_loss: 2.353240e-06  b_loss: 8.092224e-07  alpha=0.821845\n",
            "[Inverse] Epoch 5600/12000  Total: 5.429594e-06  f_loss: 2.315408e-06  b_loss: 7.987773e-07  alpha=0.821614\n",
            "[Inverse] Epoch 5700/12000  Total: 5.345382e-06  f_loss: 2.278379e-06  b_loss: 7.886239e-07  alpha=0.821381\n",
            "[Inverse] Epoch 5800/12000  Total: 5.262665e-06  f_loss: 2.242001e-06  b_loss: 7.786623e-07  alpha=0.821146\n",
            "[Inverse] Epoch 5900/12000  Total: 5.181202e-06  f_loss: 2.206206e-06  b_loss: 7.687891e-07  alpha=0.820908\n",
            "[Inverse] Epoch 6000/12000  Total: 5.100595e-06  f_loss: 2.170857e-06  b_loss: 7.588815e-07  alpha=0.820667\n",
            "[Inverse] Epoch 6100/12000  Total: 5.020672e-06  f_loss: 2.135852e-06  b_loss: 7.489686e-07  alpha=0.820421\n",
            "[Inverse] Epoch 6200/12000  Total: 4.941073e-06  f_loss: 2.101052e-06  b_loss: 7.389689e-07  alpha=0.820171\n",
            "[Inverse] Epoch 6300/12000  Total: 4.861715e-06  f_loss: 2.066382e-06  b_loss: 7.289523e-07  alpha=0.819917\n",
            "[Inverse] Epoch 6400/12000  Total: 4.883449e-06  f_loss: 2.065245e-06  b_loss: 7.529595e-07  alpha=0.819973\n",
            "[Inverse] Epoch 6500/12000  Total: 4.773031e-06  f_loss: 2.026552e-06  b_loss: 7.199264e-07  alpha=0.819876\n",
            "[Inverse] Epoch 6600/12000  Total: 4.808257e-06  f_loss: 2.018505e-06  b_loss: 7.712476e-07  alpha=0.819799\n",
            "[Inverse] Epoch 6700/12000  Total: 4.538334e-04  f_loss: 1.213815e-04  b_loss: 2.110704e-04  alpha=0.819512\n",
            "[Inverse] Epoch 6800/12000  Total: 6.643903e-06  f_loss: 2.443153e-06  b_loss: 1.757598e-06  alpha=0.819516\n",
            "[Inverse] Epoch 6900/12000  Total: 4.585985e-06  f_loss: 1.937062e-06  b_loss: 7.118608e-07  alpha=0.819496\n",
            "[Inverse] Epoch 7000/12000  Total: 5.014349e-06  f_loss: 2.024794e-06  b_loss: 9.647624e-07  alpha=0.819421\n",
            "[Inverse] Epoch 7100/12000  Total: 5.276275e-06  f_loss: 2.059266e-06  b_loss: 1.157744e-06  alpha=0.819390\n",
            "[Inverse] Epoch 7200/12000  Total: 5.386841e-06  f_loss: 2.197237e-06  b_loss: 9.923677e-07  alpha=0.819369\n",
            "[Inverse] Epoch 7300/12000  Total: 1.430355e-04  f_loss: 2.712462e-05  b_loss: 8.878629e-05  alpha=0.819100\n",
            "[Inverse] Epoch 7400/12000  Total: 4.336338e-06  f_loss: 1.828500e-06  b_loss: 6.793390e-07  alpha=0.819057\n",
            "[Inverse] Epoch 7500/12000  Total: 7.740471e-06  f_loss: 3.047632e-06  b_loss: 1.645207e-06  alpha=0.818993\n",
            "[Inverse] Epoch 7600/12000  Total: 5.687046e-05  f_loss: 1.210580e-05  b_loss: 3.265885e-05  alpha=0.818972\n",
            "[Inverse] Epoch 7700/12000  Total: 5.000752e-06  f_loss: 2.054030e-06  b_loss: 8.926919e-07  alpha=0.818781\n",
            "[Inverse] Epoch 7800/12000  Total: 7.529906e-05  f_loss: 1.718120e-05  b_loss: 4.093665e-05  alpha=0.818812\n",
            "[Inverse] Epoch 7900/12000  Total: 6.157900e-06  f_loss: 2.100678e-06  b_loss: 1.956544e-06  alpha=0.818768\n",
            "[Inverse] Epoch 8000/12000  Total: 2.530483e-05  f_loss: 7.407791e-06  b_loss: 1.048925e-05  alpha=0.818600\n",
            "[Inverse] Epoch 8100/12000  Total: 1.622036e-05  f_loss: 6.128495e-06  b_loss: 3.963374e-06  alpha=0.818659\n",
            "[Inverse] Epoch 8200/12000  Total: 7.313503e-06  f_loss: 2.683681e-06  b_loss: 1.946140e-06  alpha=0.818594\n",
            "[Inverse] Epoch 8300/12000  Total: 9.590326e-06  f_loss: 2.835115e-06  b_loss: 3.920097e-06  alpha=0.818454\n",
            "[Inverse] Epoch 8400/12000  Total: 9.774865e-06  f_loss: 3.620844e-06  b_loss: 2.533176e-06  alpha=0.818431\n",
            "[Inverse] Epoch 8500/12000  Total: 3.965524e-06  f_loss: 1.649159e-06  b_loss: 6.672062e-07  alpha=0.818310\n",
            "[Inverse] Epoch 8600/12000  Total: 6.460471e-06  f_loss: 2.120997e-06  b_loss: 2.218477e-06  alpha=0.818343\n",
            "[Inverse] Epoch 8700/12000  Total: 4.360352e-06  f_loss: 1.778653e-06  b_loss: 8.030459e-07  alpha=0.818315\n",
            "[Inverse] Epoch 8800/12000  Total: 3.856051e-06  f_loss: 1.598237e-06  b_loss: 6.595782e-07  alpha=0.818164\n",
            "[Inverse] Epoch 8900/12000  Total: 1.040083e-04  f_loss: 2.444842e-05  b_loss: 5.511150e-05  alpha=0.818022\n",
            "[Inverse] Epoch 9000/12000  Total: 5.892848e-05  f_loss: 1.399310e-05  b_loss: 3.094227e-05  alpha=0.818052\n",
            "[Inverse] Epoch 9100/12000  Total: 1.672119e-04  f_loss: 3.095346e-05  b_loss: 1.053050e-04  alpha=0.817990\n",
            "[Inverse] Epoch 9200/12000  Total: 1.093630e-05  f_loss: 4.189134e-06  b_loss: 2.558035e-06  alpha=0.817938\n",
            "[Inverse] Epoch 9300/12000  Total: 3.675322e-06  f_loss: 1.538796e-06  b_loss: 5.977301e-07  alpha=0.817905\n",
            "[Inverse] Epoch 9400/12000  Total: 5.255686e-06  f_loss: 1.916565e-06  b_loss: 1.422556e-06  alpha=0.817835\n",
            "[Inverse] Epoch 9500/12000  Total: 4.328656e-06  f_loss: 1.779828e-06  b_loss: 7.689999e-07  alpha=0.817778\n",
            "[Inverse] Epoch 9600/12000  Total: 3.681330e-06  f_loss: 1.510151e-06  b_loss: 6.610283e-07  alpha=0.817774\n",
            "[Inverse] Epoch 9700/12000  Total: 1.694478e-04  f_loss: 5.218945e-05  b_loss: 6.506893e-05  alpha=0.817627\n",
            "[Inverse] Epoch 9800/12000  Total: 1.177156e-05  f_loss: 3.278964e-06  b_loss: 5.213636e-06  alpha=0.817690\n",
            "[Inverse] Epoch 9900/12000  Total: 3.876967e-06  f_loss: 1.512116e-06  b_loss: 8.527352e-07  alpha=0.817552\n",
            "[Inverse] Epoch 10000/12000  Total: 3.379069e-06  f_loss: 1.415048e-06  b_loss: 5.489739e-07  alpha=0.817523\n",
            "[Inverse] Epoch 10100/12000  Total: 3.328301e-06  f_loss: 1.398949e-06  b_loss: 5.304022e-07  alpha=0.817402\n",
            "[Inverse] Epoch 10200/12000  Total: 3.303356e-06  f_loss: 1.388305e-06  b_loss: 5.267464e-07  alpha=0.817283\n",
            "[Inverse] Epoch 10300/12000  Total: 3.278108e-06  f_loss: 1.377690e-06  b_loss: 5.227279e-07  alpha=0.817163\n",
            "[Inverse] Epoch 10400/12000  Total: 3.252392e-06  f_loss: 1.366883e-06  b_loss: 5.186262e-07  alpha=0.817041\n",
            "[Inverse] Epoch 10500/12000  Total: 3.226042e-06  f_loss: 1.355799e-06  b_loss: 5.144435e-07  alpha=0.816916\n",
            "[Inverse] Epoch 10600/12000  Total: 3.199001e-06  f_loss: 1.344416e-06  b_loss: 5.101689e-07  alpha=0.816787\n",
            "[Inverse] Epoch 10700/12000  Total: 3.171161e-06  f_loss: 1.332675e-06  b_loss: 5.058105e-07  alpha=0.816656\n",
            "[Inverse] Epoch 10800/12000  Total: 3.142525e-06  f_loss: 1.320587e-06  b_loss: 5.013503e-07  alpha=0.816520\n",
            "[Inverse] Epoch 10900/12000  Total: 3.112922e-06  f_loss: 1.308092e-06  b_loss: 4.967387e-07  alpha=0.816380\n",
            "[Inverse] Epoch 11000/12000  Total: 3.082432e-06  f_loss: 1.295201e-06  b_loss: 4.920303e-07  alpha=0.816236\n",
            "[Inverse] Epoch 11100/12000  Total: 3.050804e-06  f_loss: 1.281835e-06  b_loss: 4.871337e-07  alpha=0.816088\n",
            "[Inverse] Epoch 11200/12000  Total: 3.018084e-06  f_loss: 1.267999e-06  b_loss: 4.820860e-07  alpha=0.815934\n",
            "[Inverse] Epoch 11300/12000  Total: 2.984132e-06  f_loss: 1.253635e-06  b_loss: 4.768619e-07  alpha=0.815776\n",
            "[Inverse] Epoch 11400/12000  Total: 3.578726e-06  f_loss: 1.438089e-06  b_loss: 7.025485e-07  alpha=0.815648\n",
            "[Inverse] Epoch 11500/12000  Total: 2.049107e-05  f_loss: 4.179498e-06  b_loss: 1.213207e-05  alpha=0.815504\n",
            "[Inverse] Epoch 11600/12000  Total: 1.963473e-05  f_loss: 6.547545e-06  b_loss: 6.539638e-06  alpha=0.815380\n",
            "[Inverse] Epoch 11700/12000  Total: 4.384764e-06  f_loss: 1.483113e-06  b_loss: 1.418537e-06  alpha=0.815313\n",
            "[Inverse] Epoch 11800/12000  Total: 3.620195e-06  f_loss: 1.460960e-06  b_loss: 6.982760e-07  alpha=0.815194\n",
            "[Inverse] Epoch 11900/12000  Total: 2.857736e-06  f_loss: 1.190444e-06  b_loss: 4.768479e-07  alpha=0.815077\n",
            "[Inverse] Epoch 12000/12000  Total: 4.667329e-06  f_loss: 1.785068e-06  b_loss: 1.097193e-06  alpha=0.814958\n",
            "\n",
            "Final learned alpha from inverse training: 0.8149625428536211\n",
            "Best alpha encountered during training: 0.8149656922088374\n",
            "[Inverse Fine-tune] Epoch 1/500  Total: 4.175622e-06  f_loss: 1.620423e-06  b_loss: 9.347762e-07  alpha=0.814963\n",
            "[Inverse Fine-tune] Epoch 50/500  Total: 2.332542e-03  f_loss: 8.144781e-04  b_loss: 7.035858e-04  alpha=0.834386\n",
            "[Inverse Fine-tune] Epoch 100/500  Total: 4.694925e-04  f_loss: 1.600620e-04  b_loss: 1.493685e-04  alpha=0.831118\n",
            "[Inverse Fine-tune] Epoch 150/500  Total: 1.892101e-04  f_loss: 7.345760e-05  b_loss: 4.229492e-05  alpha=0.828990\n",
            "[Inverse Fine-tune] Epoch 200/500  Total: 1.128318e-04  f_loss: 4.738942e-05  b_loss: 1.805298e-05  alpha=0.827761\n",
            "[Inverse Fine-tune] Epoch 250/500  Total: 8.241442e-05  f_loss: 3.568835e-05  b_loss: 1.103771e-05  alpha=0.826947\n",
            "[Inverse Fine-tune] Epoch 300/500  Total: 6.501436e-05  f_loss: 2.854902e-05  b_loss: 7.916323e-06  alpha=0.826326\n",
            "[Inverse Fine-tune] Epoch 350/500  Total: 5.324787e-05  f_loss: 2.356548e-05  b_loss: 6.116910e-06  alpha=0.825809\n",
            "[Inverse Fine-tune] Epoch 400/500  Total: 4.464910e-05  f_loss: 1.985180e-05  b_loss: 4.945501e-06  alpha=0.825358\n",
            "[Inverse Fine-tune] Epoch 450/500  Total: 3.807228e-05  f_loss: 1.697466e-05  b_loss: 4.122963e-06  alpha=0.824957\n",
            "[Inverse Fine-tune] Epoch 500/500  Total: 3.289984e-05  f_loss: 1.469381e-05  b_loss: 3.512218e-06  alpha=0.824595\n"
          ]
        }
      ],
      "source": [
        "# ---------- Inverse training ----------\n",
        "beta = torch.tensor(np.log(0.8), requires_grad=True, device=device)  # reparam alpha=exp(beta)\n",
        "model_inv = PINN().to(device)\n",
        "model_inv.load_state_dict(model.state_dict())  # starts from forward-trained model\n",
        "\n",
        "optimizer_inv = optim.Adam([\n",
        "    {'params': model_inv.parameters(), 'lr': 1e-3},\n",
        "    {'params': [beta], 'lr': 3e-3}\n",
        "])\n",
        "scheduler = torch.optim.lr_scheduler.ReduceLROnPlateau(                      #lr scheduler(lowers lr to take small steps) to decrease lr when loss stops decreasing\n",
        "    optimizer_inv, mode='min', factor=0.5, patience=300, min_lr=1e-6\n",
        ")\n",
        "\n",
        "def pinn_loss_inverse(model, beta_param, x_f, y_f, x_b, y_b, u_b):\n",
        "    alpha_param = torch.exp(beta_param)\n",
        "    f_pred = laplacian_u(model, x_f, y_f)\n",
        "    f_true = (-2 * (np.pi**2) * alpha_param * torch.sin(np.pi * x_f) * torch.sin(np.pi * y_f)).to(device)\n",
        "    loss_f = torch.mean((f_pred - f_true)**2) / (torch.mean(f_true**2) + 1e-8)\n",
        "    u_b_pred = model(x_b, y_b)\n",
        "    loss_b = mse_loss(u_b_pred, u_b)\n",
        "    total = 2.0 * loss_f + 1.0 * loss_b   # Increase PDE focus\n",
        "\n",
        "    return total, loss_f.item(), loss_b.item(), alpha_param.item()\n",
        "\n",
        "print(\"Starting inverse training...\")\n",
        "best_loss = 1e9               #Initialize best_loss large and best_alpha to store the best (smallest) loss and corresponding alpha seen during training.\n",
        "best_alpha = None\n",
        "\n",
        "total_epochs = 12000  # main inverse training\n",
        "for epoch in range(1, total_epochs + 1):\n",
        "    model_inv.train()\n",
        "    optimizer_inv.zero_grad()        #Setting all .grad values of model parameters to zero before computing new gradients\n",
        "\n",
        "    total_loss, loss_f_inv, loss_b_inv, alpha_val = pinn_loss_inverse(model_inv, beta, x_f, y_f, x_b, y_b, u_b)\n",
        "    total_loss.backward()\n",
        "    torch.nn.utils.clip_grad_norm_(list(model_inv.parameters()) + [beta], max_norm=2.0)  #prevents exploding gradients by scaling them down if their combined norm > 2.0.\n",
        "    optimizer_inv.step()\n",
        "    scheduler.step(total_loss.detach())   #Tell the LR scheduler the current metric (total_loss) so it can monitor progress.\n",
        "\n",
        "    if total_loss.item() < best_loss:\n",
        "        best_loss = total_loss.item()\n",
        "        best_alpha = alpha_val\n",
        "\n",
        "    if epoch % 100 == 0 or epoch == 1:\n",
        "        print(f\"[Inverse] Epoch {epoch}/{total_epochs}  Total: {total_loss.item():.6e}  f_loss: {loss_f_inv:.6e}  b_loss: {loss_b_inv:.6e}  alpha={alpha_val:.6f}\")\n",
        "\n",
        "learned_alpha = torch.exp(beta).item()\n",
        "print(\"\\nFinal learned alpha from inverse training:\", learned_alpha)\n",
        "print(\"Best alpha encountered during training:\", best_alpha)\n",
        "\n",
        "# Fine-tune last 500 epochs at lower LR\n",
        "for g in optimizer_inv.param_groups:\n",
        "    g['lr'] = 5e-4  # smaller LR\n",
        "\n",
        "fine_tune_start = 12001\n",
        "fine_tune_end = 12500\n",
        "\n",
        "for epoch in range(fine_tune_start, fine_tune_end + 1):\n",
        "    total_loss, loss_f_inv, loss_b_inv, alpha_val = pinn_loss_inverse(model_inv, beta, x_f, y_f, x_b, y_b, u_b)\n",
        "    optimizer_inv.zero_grad()\n",
        "    total_loss.backward()\n",
        "    torch.nn.utils.clip_grad_norm_(list(model_inv.parameters()) + [beta], max_norm=2.0)\n",
        "    optimizer_inv.step()\n",
        "\n",
        "    # print relative to fine-tune epochs\n",
        "    if (epoch - fine_tune_start + 1) % 50 == 0 or epoch == fine_tune_start:\n",
        "        ft_epoch = epoch - fine_tune_start + 1\n",
        "        print(f\"[Inverse Fine-tune] Epoch {ft_epoch}/500  Total: {total_loss.item():.6e}  f_loss: {loss_f_inv:.6e}  b_loss: {loss_b_inv:.6e}  alpha={alpha_val:.6f}\")\n"
      ]
    },
    {
      "cell_type": "markdown",
      "metadata": {
        "id": "t9xxkJV3eJNM"
      },
      "source": [
        "###Predict Solutions for Forward and Inverse Problems\n",
        "\n",
        "In this step, we:\n",
        "\n",
        "- Generate a grid of points in the domain for testing.\n",
        "- Use the trained **forward model** to predict u(x, y) across the domain.\n",
        "- Use the trained **inverse model** to predict u(x, y) and recover the learned parameter alpha.\n",
        "- Store the exact solution for comparison."
      ]
    },
    {
      "cell_type": "code",
      "execution_count": 16,
      "metadata": {
        "id": "N8rZdusdd1X8"
      },
      "outputs": [],
      "source": [
        "n_test = 50\n",
        "x_vals = torch.linspace(0,1,n_test, device=device).reshape(-1,1)\n",
        "y_vals = torch.linspace(0,1,n_test, device=device).reshape(-1,1)\n",
        "Xg, Yg = torch.meshgrid(x_vals.squeeze(), y_vals.squeeze(), indexing=\"ij\")\n",
        "xg_flat = Xg.reshape(-1,1)\n",
        "yg_flat = Yg.reshape(-1,1)\n",
        "\n",
        "model.eval()\n",
        "with torch.no_grad():\n",
        "  u_pred_forward = model(xg_flat, yg_flat).cpu()\n",
        "  u_exact_all = u_exact_func(xg_flat.cpu(), yg_flat.cpu(), A=A_true)\n",
        "\n",
        "model_inv.eval()\n",
        "with torch.no_grad():\n",
        "  u_pred_inverse = model_inv(xg_flat, yg_flat).cpu()\n",
        "  u_exact_inv = u_exact_func(xg_flat.cpu(), yg_flat.cpu(), A=A_true)\n",
        "  learned_alpha = torch.exp(beta).item()\n",
        "\n"
      ]
    },
    {
      "cell_type": "markdown",
      "metadata": {
        "id": "Wexw4ySkeNzw"
      },
      "source": [
        "# **RESULTS VISUALISATION**\n",
        "\n",
        "## Compute Metrics and Show Sample Predictions\n",
        "\n",
        "In this step, we evaluate the performance of the forward and inverse PINN models:\n",
        "\n",
        "- Compute **Mean Squared Error (MSE)** between predicted and exact solutions.\n",
        "- Compute **Relative L2 Error**.\n",
        "- Compute approximate **accuracy** as a percentage.\n",
        "- Print the **learned parameter alpha** from the inverse problem.\n",
        "- Display a few **sample predictions** from both forward and inverse models alongside the exact values.\n"
      ]
    },
    {
      "cell_type": "code",
      "execution_count": 17,
      "metadata": {
        "id": "0xykEyUaeA4u",
        "colab": {
          "base_uri": "https://localhost:8080/"
        },
        "outputId": "eb49b084-809e-4dd6-aaf0-eaea6954ded7"
      },
      "outputs": [
        {
          "output_type": "stream",
          "name": "stdout",
          "text": [
            "\n",
            "--- Forward-trained model metrics ---\n",
            "MSE: 9.740932000568137e-05\n",
            "Relative L2 Error: 0.020142076537013054\n",
            "Accuracy (approx): 97.99%\n",
            "\n",
            "--- Inverse-trained model metrics ---\n",
            "MSE: 0.007322503719478846\n",
            "Relative L2 Error: 0.17463602125644684\n",
            "Accuracy (approx): 82.54%\n",
            "Learned alpha (inverse): 0.8245880145113128\n",
            "True amplitude A_true: 1.0\n",
            "\n",
            "Sample predictions (forward model):\n",
            "x=0.000, y=0.000, u_pred=-0.002325, u_exact=0.000000\n",
            "x=0.000, y=0.020, u_pred=-0.002361, u_exact=0.000000\n",
            "x=0.000, y=0.041, u_pred=-0.002465, u_exact=0.000000\n",
            "x=0.000, y=0.061, u_pred=-0.002605, u_exact=0.000000\n",
            "x=0.000, y=0.082, u_pred=-0.002764, u_exact=0.000000\n",
            "\n",
            "Sample predictions (inverse model):\n",
            "x=0.000, y=0.000, u_pred=0.001599, u_exact=0.000000\n",
            "x=0.000, y=0.020, u_pred=0.001364, u_exact=0.000000\n",
            "x=0.000, y=0.041, u_pred=0.001103, u_exact=0.000000\n",
            "x=0.000, y=0.061, u_pred=0.000829, u_exact=0.000000\n",
            "x=0.000, y=0.082, u_pred=0.000555, u_exact=0.000000\n"
          ]
        }
      ],
      "source": [
        "def compute_metrics(u_pred, u_exact):\n",
        "  diff = u_pred - u_exact\n",
        "  mse = torch.mean(diff**2).item()\n",
        "  rel_l2 = (torch.norm(diff) / torch.norm(u_exact)).item()\n",
        "  acc_percent = max(0.0, (1 - rel_l2) * 100)\n",
        "  return mse, rel_l2, acc_percent\n",
        "\n",
        "mse_fwd, rel_fwd, acc_fwd = compute_metrics(u_pred_forward, u_exact_all)\n",
        "mse_inv, rel_inv, acc_inv = compute_metrics(u_pred_inverse, u_exact_all)\n",
        "\n",
        "print(\"\\n--- Forward-trained model metrics ---\")\n",
        "print(\"MSE:\", mse_fwd)\n",
        "print(\"Relative L2 Error:\", rel_fwd)\n",
        "print(f\"Accuracy (approx): {acc_fwd:.2f}%\")\n",
        "\n",
        "print(\"\\n--- Inverse-trained model metrics ---\")\n",
        "print(\"MSE:\", mse_inv)\n",
        "print(\"Relative L2 Error:\", rel_inv)\n",
        "print(f\"Accuracy (approx): {acc_inv:.2f}%\")\n",
        "print(\"Learned alpha (inverse):\", learned_alpha)\n",
        "print(\"True amplitude A_true:\", A_true)\n",
        "\n",
        "print(\"\\nSample predictions (forward model):\")\n",
        "for i in range(5):\n",
        "  print(f\"x={xg_flat[i].item():.3f}, y={yg_flat[i].item():.3f}, u_pred={u_pred_forward[i].item():.6f}, u_exact={u_exact_all[i].item():.6f}\")\n",
        "print(\"\\nSample predictions (inverse model):\")\n",
        "for i in range(5):\n",
        "  print(f\"x={xg_flat[i].item():.3f}, y={yg_flat[i].item():.3f}, u_pred={u_pred_inverse[i].item():.6f}, u_exact={u_exact_inv[i].item():.6f}\")"
      ]
    },
    {
      "cell_type": "markdown",
      "metadata": {
        "id": "izi6phOYeUFx"
      },
      "source": [
        "##Visualize Predictions and Errors\n",
        "\n",
        "In this step, we plot heatmaps to visually compare the forward and inverse PINN predictions against the exact solution:\n",
        "\n",
        "- First row: forward problem\n",
        "  - Predicted solution\n",
        "  - Exact solution\n",
        "  - Absolute error\n",
        "- Second row: inverse problem\n",
        "  - Predicted solution\n",
        "  - Exact solution\n",
        "  - Absolute error\n",
        "\n",
        "This helps to see where the model is accurate and where errors are larger.\n"
      ]
    },
    {
      "cell_type": "code",
      "execution_count": 18,
      "metadata": {
        "id": "Xg3QxTvpeEdQ",
        "colab": {
          "base_uri": "https://localhost:8080/",
          "height": 682
        },
        "outputId": "423b0a91-5c9f-402f-80e5-48a63ffa0a89"
      },
      "outputs": [
        {
          "output_type": "display_data",
          "data": {
            "text/plain": [
              "<Figure size 1800x1000 with 6 Axes>"
            ],
            "image/png": "[encoded data removed]"
          },
          "metadata": {}
        }
      ],
      "source": [
        "u_pred_forward_np = u_pred_forward.numpy().reshape(n_test, n_test)\n",
        "u_exact_np = u_exact_all.numpy().reshape(n_test, n_test)\n",
        "u_pred_inverse_np = u_pred_inverse.numpy().reshape(n_test, n_test)\n",
        "\n",
        "fig, axs = plt.subplots(2,3, figsize=(18,10))\n",
        "\n",
        "axs[0,0].imshow(u_pred_forward_np, origin='lower', extent=[0,1,0,1])\n",
        "axs[0,0].set_title(\"Forward: Predicted\")\n",
        "axs[0,1].imshow(u_exact_np, origin='lower', extent=[0,1,0,1])\n",
        "axs[0,1].set_title(\"Exact\")\n",
        "axs[0,2].imshow(np.abs(u_pred_forward_np - u_exact_np), origin='lower', extent=[0,1,0,1])\n",
        "axs[0,2].set_title(\"Forward Absolute Error\")\n",
        "\n",
        "axs[1,0].imshow(u_pred_inverse_np, origin='lower', extent=[0,1,0,1])\n",
        "axs[1,0].set_title(\"Inverse: Predicted\")\n",
        "axs[1,1].imshow(u_exact_np, origin='lower', extent=[0,1,0,1])\n",
        "axs[1,1].set_title(\"Exact\")\n",
        "axs[1,2].imshow(np.abs(u_pred_inverse_np - u_exact_np), origin='lower', extent=[0,1,0,1])\n",
        "axs[1,2].set_title(\"Inverse Absolute Error\")\n",
        "\n",
        "for ax in axs.flat:\n",
        "  ax.set_xlabel(\"x\")\n",
        "  ax.set_ylabel(\"y\")\n",
        "\n",
        "plt.tight_layout()\n",
        "plt.show()"
      ]
    }
  ],
  "metadata": {
    "accelerator": "GPU",
    "colab": {
      "gpuType": "T4",
      "provenance": [],
      "include_colab_link": true
    },
    "kernelspec": {
      "display_name": "Python 3",
      "name": "python3"
    },
    "language_info": {
      "name": "python"
    }
  },
  "nbformat": 4,
  "nbformat_minor": 0
}